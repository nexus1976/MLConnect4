{
 "cells": [
  {
   "cell_type": "code",
   "execution_count": 18,
   "metadata": {},
   "outputs": [],
   "source": [
    "# Import and verify that Keras is running.\n",
    "import keras\n",
    "#keras.__version__\n",
    "import numpy as np\n",
    "from numpy import genfromtxt\n",
    "from sklearn.model_selection import train_test_split\n",
    "from keras.models import Sequential\n",
    "from keras.layers import Dense, Dropout, Activation, Flatten\n",
    "from keras.layers import Convolution2D, MaxPooling2D, Conv2D\n",
    "from keras.utils import np_utils\n",
    "from keras.datasets import mnist\n",
    "from keras.optimizers import RMSprop"
   ]
  },
  {
   "cell_type": "code",
   "execution_count": null,
   "metadata": {},
   "outputs": [],
   "source": [
    "my_data = genfromtxt('KJKaggle.csv', delimiter=',', skip_header=1)"
   ]
  },
  {
   "cell_type": "code",
   "execution_count": null,
   "metadata": {},
   "outputs": [],
   "source": [
    "idx_deletenans = []\n",
    "for idx, row in enumerate(my_data):\n",
    "    if np.isnan(np.sum(row)):\n",
    "        idx_deletenans.append(idx)\n",
    "my_data = np.delete(my_data, idx_deletenans, 0)"
   ]
  },
  {
   "cell_type": "code",
   "execution_count": 20,
   "metadata": {},
   "outputs": [],
   "source": [
    "## Convert data type to float32 \n",
    "my_data = my_data.astype('float32')\n",
    "y = my_data[:,-1]\n",
    "X = my_data[:,:-1]\n",
    "X = X.reshape(-1, 6, 7, 1)\n",
    "X_train, X_test, y_train, y_test = train_test_split(X, y, test_size=0.25, random_state=42)"
   ]
  },
  {
   "cell_type": "code",
   "execution_count": 21,
   "metadata": {},
   "outputs": [
    {
     "name": "stdout",
     "output_type": "stream",
     "text": [
      "_________________________________________________________________\n",
      "Layer (type)                 Output Shape              Param #   \n",
      "=================================================================\n",
      "conv2d_3 (Conv2D)            (None, 6, 7, 32)          320       \n",
      "_________________________________________________________________\n",
      "conv2d_4 (Conv2D)            (None, 4, 5, 64)          18496     \n",
      "_________________________________________________________________\n",
      "flatten_2 (Flatten)          (None, 1280)              0         \n",
      "_________________________________________________________________\n",
      "dense_10 (Dense)             (None, 512)               655872    \n",
      "_________________________________________________________________\n",
      "dense_11 (Dense)             (None, 512)               262656    \n",
      "_________________________________________________________________\n",
      "dense_12 (Dense)             (None, 1)                 513       \n",
      "=================================================================\n",
      "Total params: 937,857\n",
      "Trainable params: 937,857\n",
      "Non-trainable params: 0\n",
      "_________________________________________________________________\n",
      "Train on 1032464 samples, validate on 344155 samples\n",
      "Epoch 1/3\n",
      "1032464/1032464 [==============================] - 379s 367us/step - loss: 0.3153 - acc: 0.7412 - val_loss: 0.2481 - val_acc: 0.8221\n",
      "Epoch 2/3\n",
      "1032464/1032464 [==============================] - 377s 365us/step - loss: 0.1967 - acc: 0.8442 - val_loss: 0.1777 - val_acc: 0.8517\n",
      "Epoch 3/3\n",
      "1032464/1032464 [==============================] - 382s 370us/step - loss: 0.1641 - acc: 0.8699 - val_loss: 0.1552 - val_acc: 0.8773\n"
     ]
    }
   ],
   "source": [
    "# Define architecture of the Neural Network\n",
    "num_classes = 1\n",
    "input_shape = (6, 7, 1)\n",
    "model = Sequential()\n",
    "model.add(Conv2D(32, kernel_size=(3, 3), padding='SAME', strides=(1, 1),\n",
    "                activation='relu',\n",
    "                input_shape=input_shape))\n",
    "model.add(Conv2D(64, (3, 3), activation='relu'))\n",
    "model.add(Flatten())\n",
    "model.add(Dense(512, activation='relu', input_dim=42))\n",
    "model.add(Dense(512, activation='relu'))\n",
    "model.add(Dense(num_classes, activation='tanh'))\n",
    " \n",
    "# Print out a summary of our neural network\n",
    "model.summary()\n",
    "\n",
    "# Complie the model\n",
    "model.compile(loss='mean_squared_error',\n",
    "              optimizer='adam', metrics=['accuracy'])\n",
    " \n",
    "# Set the epochs which determines the number of times to train the model on the data set.\n",
    "epochs = 3\n",
    "\n",
    "# Train the model on training data\n",
    "history = model.fit(X_train, y_train, batch_size=32, epochs=epochs, verbose=1, validation_data=(X_test, y_test))\n"
   ]
  },
  {
   "cell_type": "code",
   "execution_count": 22,
   "metadata": {},
   "outputs": [],
   "source": [
    "model.save('KJKaggleConv2D.h5')"
   ]
  },
  {
   "cell_type": "code",
   "execution_count": null,
   "metadata": {},
   "outputs": [],
   "source": [
    "model.predict(X_train[0].reshape(1,42))"
   ]
  },
  {
   "cell_type": "code",
   "execution_count": null,
   "metadata": {},
   "outputs": [],
   "source": [
    "res = model.predict(X_train[0:10])\n",
    "np.max(res)"
   ]
  },
  {
   "cell_type": "code",
   "execution_count": null,
   "metadata": {},
   "outputs": [],
   "source": [
    "# Evaluate the model on test data\n",
    "import matplotlib.pyplot as plt\n",
    "plt.plot(history.history['loss'])\n",
    "plt.plot(history.history['val_loss'])\n",
    "\n",
    "score = model.evaluate(source_test, target_test, verbose=0)\n",
    "print('Test loss:', score[0])\n",
    "print('Test accuracy:', score[1])"
   ]
  },
  {
   "cell_type": "code",
   "execution_count": null,
   "metadata": {},
   "outputs": [],
   "source": [
    "# For reference here is how the NON-NN models scored:\n",
    "\n",
    "# KNeighborsClassifier score: 0.917900\n",
    "# LogisticRegression score: 0.925600"
   ]
  },
  {
   "cell_type": "code",
   "execution_count": null,
   "metadata": {},
   "outputs": [],
   "source": []
  }
 ],
 "metadata": {
  "kernelspec": {
   "display_name": "Python 3",
   "language": "python",
   "name": "python3"
  },
  "language_info": {
   "codemirror_mode": {
    "name": "ipython",
    "version": 3
   },
   "file_extension": ".py",
   "mimetype": "text/x-python",
   "name": "python",
   "nbconvert_exporter": "python",
   "pygments_lexer": "ipython3",
   "version": "3.7.3"
  }
 },
 "nbformat": 4,
 "nbformat_minor": 2
}
